{
 "cells": [
  {
   "cell_type": "markdown",
   "metadata": {},
   "source": [
    "# A two-dimensional four-branch serial system (Waarts, 2000)"
   ]
  },
  {
   "cell_type": "markdown",
   "metadata": {},
   "source": [
    "## References"
   ]
  },
  {
   "cell_type": "markdown",
   "metadata": {},
   "source": [
    "* [1] Waarts, P.-H. (2000). \"Structural reliability using finite element methods: an appraisal of\n",
    "DARS: Directional Adaptive Response Surface Sampling.\" PhD thesis. Technical University of Delft, The Netherlands.\n",
    "* [2] Dubourg, V. (2011). \"Adaptive surrogate models for reliability analysis and reliability-based design\n",
    "optimization\". PhD thesis. Université Blaise Pascal – Clermont II."
   ]
  },
  {
   "cell_type": "markdown",
   "metadata": {},
   "source": [
    "## Numerical example with OpenTURNS"
   ]
  },
  {
   "cell_type": "code",
   "execution_count": 1,
   "metadata": {},
   "outputs": [],
   "source": [
    "import openturns as ot\n",
    "import numpy as np"
   ]
  },
  {
   "cell_type": "code",
   "execution_count": 2,
   "metadata": {},
   "outputs": [],
   "source": [
    "## Input probabilistic model\n",
    "x0 = ot.Normal(0.0, 1.0)\n",
    "x1 = ot.Normal(0.0, 1.0)\n",
    "inputDistribution = ot.ComposedDistribution((x0, x1))\n",
    "inputRandomVector = ot.RandomVector(inputDistribution)"
   ]
  },
  {
   "cell_type": "code",
   "execution_count": 3,
   "metadata": {},
   "outputs": [],
   "source": [
    "## Limit-state function\n",
    "formulaList = [\n",
    "    \"var y0 := 3 + 0.1 * (x0 - x1)^2 - (x0 + x1) / sqrt(2)\",\n",
    "    \"var y1 := 3 + 0.1 * (x0 - x1)^2 + (x0 + x1) / sqrt(2)\",\n",
    "    \"var y2 := x0 - x1 + 7 / sqrt(2)\",\n",
    "    \"var y3 := x1 - x0 + 7 / sqrt(2)\",\n",
    "    \"y := min(y0,y1,y2,y3)\",\n",
    "]\n",
    "formula = \";\".join(formulaList)\n",
    "waartsfunction = ot.SymbolicFunction([\"x0\", \"x1\"], [\"y\"], formula)"
   ]
  },
  {
   "cell_type": "code",
   "execution_count": 4,
   "metadata": {},
   "outputs": [
    {
     "data": {
      "text/html": [
       "<p>[0.0301515]</p>"
      ],
      "text/plain": [
       "class=Point name=Unnamed dimension=1 values=[0.0301515]"
      ]
     },
     "execution_count": 4,
     "metadata": {},
     "output_type": "execute_result"
    }
   ],
   "source": [
    "waartsfunction([2.1, 2.1])"
   ]
  },
  {
   "cell_type": "code",
   "execution_count": 5,
   "metadata": {},
   "outputs": [],
   "source": [
    "## Creation d'une PythonFunction\n",
    "def waartsfunction_py(x):\n",
    "    y0 = 3 + 0.1 * (x[0] - x[1]) ** 2 - (x[0] + x[1]) / (2 ** 0.5)\n",
    "    y1 = 3 + 0.1 * (x[0] - x[1]) ** 2 + (x[0] + x[1]) / (2 ** 0.5)\n",
    "    y2 = x[0] - x[1] + 7 / (2 ** 0.5)\n",
    "    y3 = x[1] - x[0] + 7 / (2 ** 0.5)\n",
    "    y = min(y0, y1, y2, y3)\n",
    "    return [y]"
   ]
  },
  {
   "cell_type": "code",
   "execution_count": 6,
   "metadata": {},
   "outputs": [
    {
     "data": {
      "text/plain": [
       "[0.030151519016500483]"
      ]
     },
     "execution_count": 6,
     "metadata": {},
     "output_type": "execute_result"
    }
   ],
   "source": [
    "yy = waartsfunction_py([2.1, 2.1])\n",
    "yy"
   ]
  },
  {
   "cell_type": "code",
   "execution_count": 7,
   "metadata": {},
   "outputs": [
    {
     "data": {
      "text/html": [
       "<p>[0.0301515]</p>"
      ],
      "text/plain": [
       "class=Point name=Unnamed dimension=1 values=[0.0301515]"
      ]
     },
     "execution_count": 7,
     "metadata": {},
     "output_type": "execute_result"
    }
   ],
   "source": [
    "myfunction = ot.PythonFunction(2, 1, waartsfunction_py)\n",
    "myfunction([2.1, 2.1])"
   ]
  },
  {
   "cell_type": "code",
   "execution_count": 8,
   "metadata": {},
   "outputs": [],
   "source": [
    "outputVect = ot.CompositeRandomVector(myfunction, inputRandomVector)"
   ]
  },
  {
   "cell_type": "code",
   "execution_count": 9,
   "metadata": {},
   "outputs": [],
   "source": [
    "montecarlosize = 1000\n",
    "outputSample = outputVect.getSample(montecarlosize)"
   ]
  },
  {
   "cell_type": "code",
   "execution_count": 10,
   "metadata": {},
   "outputs": [],
   "source": [
    "histo = ot.HistogramFactory().build(outputSample)"
   ]
  },
  {
   "cell_type": "code",
   "execution_count": 11,
   "metadata": {},
   "outputs": [
    {
     "data": {
      "image/png": "[encoded data removed]",
      "text/plain": [
       "class=Graph name=y0 PDF implementation=class=GraphImplementation name=y0 PDF title=y0 PDF xTitle=y0 yTitle=PDF axes=ON grid=ON legendposition=topright legendFontSize=1 drawables=[class=Drawable name=Unnamed implementation=class=Curve name=Unnamed derived from class=DrawableImplementation name=Unnamed legend=y0 PDF data=class=Sample name=Unnamed implementation=class=SampleImplementation name=Unnamed size=72 dimension=2 data=[[-0.366892,0],[-0.263826,0],[-0.263826,0],[-0.263826,0.00970254],[-0.0576948,0.00970254],[-0.0576948,0],[-0.0576948,0],[-0.0576948,0],[0.148437,0],[0.148437,0],[0.148437,0],[0.148437,0.0194051],[0.354568,0.0194051],[0.354568,0],[0.354568,0],[0.354568,0.0388102],[0.5607,0.0388102],[0.5607,0],[0.5607,0],[0.5607,0.0727691],[0.766831,0.0727691],[0.766831,0],[0.766831,0],[0.766831,0.053364],[0.972963,0.053364],[0.972963,0],[0.972963,0],[0.972963,0.116431],[1.17909,0.116431],[1.17909,0],[1.17909,0],[1.17909,0.140687],[1.38523,0.140687],[1.38523,0],[1.38523,0],[1.38523,0.208605],[1.59136,0.208605],[1.59136,0],[1.59136,0],[1.59136,0.281374],[1.79749,0.281374],[1.79749,0],[1.79749,0],[1.79749,0.358994],[2.00362,0.358994],[2.00362,0],[2.00362,0],[2.00362,0.519086],[2.20975,0.519086],[2.20975,0],[2.20975,0],[2.20975,0.625814],[2.41588,0.625814],[2.41588,0],[2.41588,0],[2.41588,0.620963],[2.62202,0.620963],[2.62202,0],[2.62202,0],[2.62202,0.751947],[2.82815,0.751947],[2.82815,0],[2.82815,0],[2.82815,0.785906],[3.03428,0.785906],[3.03428,0],[3.03428,0],[3.03428,0.247415],[3.24041,0.247415],[3.24041,0],[3.24041,0],[3.34348,0]] color=red fillStyle=solid lineStyle=solid pointStyle=none lineWidth=2]"
      ]
     },
     "execution_count": 11,
     "metadata": {},
     "output_type": "execute_result"
    }
   ],
   "source": [
    "histo.drawPDF()"
   ]
  },
  {
   "cell_type": "code",
   "execution_count": null,
   "metadata": {},
   "outputs": [],
   "source": []
  }
 ],
 "metadata": {
  "kernelspec": {
   "display_name": "Python 3",
   "language": "python",
   "name": "python3"
  },
  "language_info": {
   "codemirror_mode": {
    "name": "ipython",
    "version": 3
   },
   "file_extension": ".py",
   "mimetype": "text/x-python",
   "name": "python",
   "nbconvert_exporter": "python",
   "pygments_lexer": "ipython3",
   "version": "3.7.4"
  }
 },
 "nbformat": 4,
 "nbformat_minor": 2
}
