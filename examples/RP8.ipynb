{
 "cells": [
  {
   "cell_type": "markdown",
   "metadata": {},
   "source": [
    "# Problème RP8 \n",
    "## Dans ce Notebook, nous traitons le problème RP8 de BBRC 2019 en utilisant la méthode FORM SORM et la méthode de Monte Carlo"
   ]
  },
  {
   "cell_type": "code",
   "execution_count": 1,
   "metadata": {},
   "outputs": [],
   "source": [
    "import openturns as ot\n",
    "import numpy as np"
   ]
  },
  {
   "cell_type": "code",
   "execution_count": 2,
   "metadata": {},
   "outputs": [],
   "source": [
    "a = [4.783, 4.783, 4.783, 4.783, 3.892, 3.669]\n",
    "b = [0.09975, 0.09975, 0.09975, 0.09975, 0.198, 0.198]"
   ]
  },
  {
   "cell_type": "markdown",
   "metadata": {},
   "source": [
    "Nous définissons les paramètres des entrées"
   ]
  },
  {
   "cell_type": "code",
   "execution_count": 3,
   "metadata": {},
   "outputs": [],
   "source": [
    "X0 = ot.LogNormal(a[0], b[0], 0)\n",
    "X1 = ot.LogNormal(a[1], b[1], 0)\n",
    "X2 = ot.LogNormal(a[2], b[2], 0)\n",
    "X3 = ot.LogNormal(a[3], b[3], 0)\n",
    "X4 = ot.LogNormal(a[4], b[4], 0)\n",
    "X5 = ot.LogNormal(a[5], b[5], 0)"
   ]
  },
  {
   "cell_type": "code",
   "execution_count": 4,
   "metadata": {},
   "outputs": [],
   "source": [
    "Y = X0 + 2 * X1 + 2 * X2 + X3 - 5 * X4 - 5 * X5"
   ]
  },
  {
   "cell_type": "code",
   "execution_count": 5,
   "metadata": {},
   "outputs": [
    {
     "data": {
      "text/plain": [
       "0.0007733651721137447"
      ]
     },
     "execution_count": 5,
     "metadata": {},
     "output_type": "execute_result"
    }
   ],
   "source": [
    "Y.computeCDF(0.0)"
   ]
  },
  {
   "cell_type": "markdown",
   "metadata": {},
   "source": [
    "Nous traitons le cas suivants "
   ]
  },
  {
   "cell_type": "markdown",
   "metadata": {},
   "source": [
    "$\n",
    "\\left\\{\n",
    "    \\begin{array}{ll}\n",
    "        g(X) = X_0 + 2X_1 + 2X_2 +X_3 - 5X_4 - 5X_5  \\\\\n",
    "        g(X) = 0 \\\\\n",
    "        x_1 = E(X_1) \\\\ \n",
    "        X_2 = 0 \\\\\n",
    "        X_3 = 0 \\\\\n",
    "        X_5 = 0\n",
    "    \\end{array}\n",
    "\\right.\n",
    "$\n",
    "$\n",
    "\\\\\n",
    "\\Rightarrow\n",
    "\\\\\n",
    "$\n",
    "$\n",
    "\\left\\{\n",
    "    \\begin{array}{ll}\n",
    "        X_0 = 5X_4 \\\\\n",
    "        X_1 = 0 \\\\ \n",
    "        X_2 = 0 \\\\\n",
    "        X_3 = 0 \\\\\n",
    "        X_5 = 0\n",
    "    \\end{array}\n",
    "\\right.\n",
    "$"
   ]
  },
  {
   "cell_type": "markdown",
   "metadata": {},
   "source": [
    "Nous transformons les entrées X0 et X4 dans l'espace standard,\n",
    "\n",
    "\n",
    "$\n",
    "\\left\\{\n",
    "    \\begin{array}{ll}\n",
    "        g(X) = X_0 - 5X_4  \\\\\n",
    "        g(X) = 0 \n",
    "        \\\\\n",
    "    \\end{array}\n",
    "\\right.\n",
    "$\n",
    "\n",
    "On pose :\n",
    "\n",
    "$\n",
    "\\left\\{\n",
    "    \\begin{array}{ll}\n",
    "        R = X_0   \\\\\n",
    "        S = 5X_4 \n",
    "        \\\\\n",
    "    \\end{array}\n",
    "\\right.\n",
    "$\n",
    "\n",
    "Alors:\n",
    "\n",
    "$\n",
    "\\left\\{\n",
    "    \\begin{array}{ll}\n",
    "        µ_R = µ_{X_0}   \\\\\n",
    "        µ_S = 5µ_{X_4} \n",
    "        \\\\\n",
    "    \\end{array}\n",
    "\\right.\n",
    "$\n",
    "\n",
    "Et:\n",
    "\n",
    "$\n",
    "\\left\\{\n",
    "    \\begin{array}{ll}\n",
    "        \\sigma_R = \\sigma_{X_0}   \\\\\n",
    "        \\sigma_S = 5\\sigma_{X_4} \n",
    "        \\\\\n",
    "    \\end{array}\n",
    "\\right.\n",
    "$\n",
    "\n",
    "On fait la transformation dans l'espace standard:\n",
    "\n",
    "$\n",
    "\\left\\{\n",
    "    \\begin{array}{ll}\n",
    "        R = X_0   \\\\\n",
    "        S = 5X_4 \n",
    "        \\\\\n",
    "    \\end{array}\n",
    "\\right.\n",
    "$\n",
    "$\n",
    "\\\\\n",
    "\\Rightarrow\n",
    "\\\\\n",
    "$\n",
    "$\n",
    "\\left\\{\n",
    "    \\begin{array}{ll}\n",
    "        U = \\frac{R-µ_R}{\\sigma_R}   \\\\\n",
    "        V = \\frac{S-µ_S}{\\sigma_S}\n",
    "        \\\\\n",
    "    \\end{array}\n",
    "\\right.\n",
    "$"
   ]
  },
  {
   "cell_type": "code",
   "execution_count": 6,
   "metadata": {},
   "outputs": [],
   "source": [
    "# moyen de X0\n",
    "mu0 = 12\n",
    "# moyen de X4\n",
    "mu4 = 5\n",
    "# écart type de X0\n",
    "sigma0 = 12\n",
    "# écart typre de X4\n",
    "sigma4 = 10"
   ]
  },
  {
   "cell_type": "code",
   "execution_count": 7,
   "metadata": {},
   "outputs": [],
   "source": [
    "U1 = (X0 - mu0) / sigma0\n",
    "U2 = (X4 - mu4) / sigma4"
   ]
  },
  {
   "cell_type": "code",
   "execution_count": 8,
   "metadata": {},
   "outputs": [],
   "source": [
    "x1 = U1.getSample(5000)\n",
    "y1 = U2.getSample(5000)"
   ]
  },
  {
   "cell_type": "markdown",
   "metadata": {},
   "source": [
    "On declare deux cercles des iso-probable\n",
    "\n",
    "$f_{R S}(u, v)=\\frac{1}{2 \\pi \\sigma_{R} \\sigma_{s}} \\exp \\left\\{-\\frac{1}{2}\\left[u^{2}+v^{2}\\right]\\right\\}$"
   ]
  },
  {
   "cell_type": "markdown",
   "metadata": {},
   "source": [
    "Nous calculons les rayons des courbes iso-probables pour deux constantes\n",
    "$\\alpha1 = 0.00001$ et $\\alpha2 = 0.000001$ \n",
    "\n",
    "$f_{R S}(u, v) = \\alpha1$ \n",
    "\n",
    "$f_{R S}(u, v) = \\alpha2$ "
   ]
  },
  {
   "cell_type": "code",
   "execution_count": 9,
   "metadata": {},
   "outputs": [],
   "source": [
    "alpha1 = 0.00001\n",
    "alpha2 = 0.000001"
   ]
  },
  {
   "cell_type": "markdown",
   "metadata": {},
   "source": [
    "Les rayons des cercles :\n",
    "$r^2  = u^2+ v^2$"
   ]
  },
  {
   "cell_type": "code",
   "execution_count": 10,
   "metadata": {},
   "outputs": [],
   "source": [
    "p = -2 * np.log(2 * np.pi * alpha1 * 5 * sigma0 * sigma4)\n",
    "q = -2 * np.log(2 * np.pi * alpha2 * 5 * sigma0 * sigma4)"
   ]
  },
  {
   "cell_type": "code",
   "execution_count": 11,
   "metadata": {},
   "outputs": [],
   "source": [
    "theta = np.linspace(0, 2 * np.pi, 100)\n",
    "\n",
    "rp = np.sqrt(p)\n",
    "\n",
    "xp = rp * np.cos(theta)\n",
    "yp = rp * np.sin(theta)\n",
    "\n",
    "rq = np.sqrt(q)\n",
    "\n",
    "xq = rq * np.cos(theta)\n",
    "yq = rq * np.sin(theta)"
   ]
  },
  {
   "cell_type": "markdown",
   "metadata": {},
   "source": [
    "On défint la fonction de $g(x)=0$ \n",
    "\n",
    "Ce qui équivalent à :\n",
    "\n",
    "$g=G(u, v)=\\sigma_{R} u-\\sigma_{S} v+\\left(\\mu_{R}-\\mu_{S}\\right)$"
   ]
  },
  {
   "cell_type": "code",
   "execution_count": 12,
   "metadata": {},
   "outputs": [],
   "source": [
    "def h(x):\n",
    "    m = (sigma0 * x + (5 * mu4 - mu0)) / (5 * sigma4)\n",
    "    return m"
   ]
  },
  {
   "cell_type": "code",
   "execution_count": 13,
   "metadata": {},
   "outputs": [],
   "source": [
    "x2 = np.arange(-5, 15, 1)\n",
    "\n",
    "y2 = h(x2)"
   ]
  },
  {
   "cell_type": "code",
   "execution_count": 14,
   "metadata": {},
   "outputs": [
    {
     "data": {
      "image/png": "[encoded data removed]",
      "text/plain": [
       "<Figure size 720x720 with 1 Axes>"
      ]
     },
     "metadata": {
      "needs_background": "light"
     },
     "output_type": "display_data"
    }
   ],
   "source": [
    "import matplotlib.pyplot as plt\n",
    "\n",
    "plt.figure(figsize=(10, 10))\n",
    "plt.scatter(x1, y1, c=\"green\", marker=\".\", label=\" v en fonction de u \")\n",
    "plt.plot(xq, yq, c=\"green\", label=\" la densité conjointe est constante = alpha 1\")\n",
    "plt.plot(x2, y2, label=\"g(x)=x0-5*x4, x2=x1=x3=x5=0\")\n",
    "plt.plot(xp, yp, c=\"red\", label=\" la densité conjointe est constante = alpha2\")\n",
    "plt.xlabel(\" u \")\n",
    "plt.ylabel(\" v \")\n",
    "plt.title(\" Courbe de g(x) et les courbes iso-probables\")\n",
    "plt.legend(loc=\"best\")\n",
    "plt.show()"
   ]
  },
  {
   "cell_type": "markdown",
   "metadata": {},
   "source": [
    "Nous définissons la fonction de performance "
   ]
  },
  {
   "cell_type": "code",
   "execution_count": 15,
   "metadata": {},
   "outputs": [],
   "source": [
    "def f(x):\n",
    "    g = x[0] + 2 * x[1] + 2 * x[2] + x[3] - 5 * x[4] - 5 * x[5]\n",
    "    y = [g]\n",
    "    return y"
   ]
  },
  {
   "cell_type": "code",
   "execution_count": 16,
   "metadata": {},
   "outputs": [],
   "source": [
    "myDistribution = ot.ComposedDistribution([X0, X1, X2, X3, X4, X5])"
   ]
  },
  {
   "cell_type": "code",
   "execution_count": 17,
   "metadata": {},
   "outputs": [],
   "source": [
    "mu = myDistribution.getMean()"
   ]
  },
  {
   "cell_type": "code",
   "execution_count": 18,
   "metadata": {},
   "outputs": [],
   "source": [
    "myFunction = ot.PythonFunction(6, 1, f)"
   ]
  },
  {
   "cell_type": "code",
   "execution_count": 19,
   "metadata": {},
   "outputs": [],
   "source": [
    "vect = ot.RandomVector(myDistribution)\n",
    "output = ot.CompositeRandomVector(myFunction, vect)\n",
    "event = ot.ThresholdEvent(output, ot.Less(), 0)"
   ]
  },
  {
   "cell_type": "code",
   "execution_count": 20,
   "metadata": {},
   "outputs": [],
   "source": [
    "# Methode FORM\n",
    "solver = ot.AbdoRackwitz()\n",
    "algo = ot.FORM(solver, event, mu)\n",
    "algo.run()\n",
    "result = algo.getResult()"
   ]
  },
  {
   "cell_type": "code",
   "execution_count": 21,
   "metadata": {},
   "outputs": [
    {
     "data": {
      "text/plain": [
       "0.0006459604410752057"
      ]
     },
     "execution_count": 21,
     "metadata": {},
     "output_type": "execute_result"
    }
   ],
   "source": [
    "result.getEventProbability()"
   ]
  },
  {
   "cell_type": "code",
   "execution_count": 22,
   "metadata": {},
   "outputs": [
    {
     "data": {
      "text/plain": [
       "93"
      ]
     },
     "execution_count": 22,
     "metadata": {},
     "output_type": "execute_result"
    }
   ],
   "source": [
    "# Nombre d'appel à la fonction f\n",
    "myFunction.getEvaluationCallsNumber()"
   ]
  },
  {
   "cell_type": "code",
   "execution_count": 23,
   "metadata": {},
   "outputs": [
    {
     "data": {
      "image/png": "[encoded data removed]",
      "text/plain": [
       "class=Graph name=Unnamed implementation=class=GraphImplementation name=Unnamed title=Importance Factors from Design Point - Unnamed xTitle= yTitle= axes=OFF grid=OFF legendposition= legendFontSize=1 drawables=[class=Drawable name=Unnamed implementation=class=Pie name=Unnamed labels=[X0 : 1.3%,X1 : 4.7%,X2 : 4.7%,X3 : 1.3%,X4 : 60.0%,X5 : 28.2%] radius=1 center=class=Point name=Unnamed dimension=2 values=[0,0] color palette=[#ff0000,#ffdb00,#49ff00,#00ff92,#0092ff,#4900ff] derived from class=DrawableImplementation name=Unnamed legend= data=class=Sample name=Unnamed implementation=class=SampleImplementation name=Unnamed size=6 dimension=1 data=[[0.0125503],[0.0469402],[0.0469402],[0.0125503],[0.599507],[0.281512]] color=blue fillStyle=solid lineStyle=solid pointStyle=plus lineWidth=1]"
      ]
     },
     "execution_count": 23,
     "metadata": {},
     "output_type": "execute_result"
    }
   ],
   "source": [
    "result.drawImportanceFactors()"
   ]
  },
  {
   "cell_type": "code",
   "execution_count": 24,
   "metadata": {},
   "outputs": [],
   "source": [
    "# Méthode importance sampling\n",
    "standardSpaceDesignPoint = result.getStandardSpaceDesignPoint()\n",
    "myImportance = ot.Normal(standardSpaceDesignPoint, [1.0] * 6, ot.CorrelationMatrix(6))\n",
    "experiment = ot.ImportanceSamplingExperiment(myImportance)\n",
    "algo = ot.ProbabilitySimulationAlgorithm(ot.StandardEvent(event), experiment)\n",
    "algo.setMaximumCoefficientOfVariation(0.1)\n",
    "algo.setMaximumOuterSampling(40000)\n",
    "algo.setConvergenceStrategy(ot.Full())\n",
    "algo.run()"
   ]
  },
  {
   "cell_type": "code",
   "execution_count": 25,
   "metadata": {},
   "outputs": [
    {
     "data": {
      "text/plain": [
       "0.0007387051349426183"
      ]
     },
     "execution_count": 25,
     "metadata": {},
     "output_type": "execute_result"
    }
   ],
   "source": [
    "result = algo.getResult()\n",
    "result.getProbabilityEstimate()"
   ]
  },
  {
   "cell_type": "code",
   "execution_count": 26,
   "metadata": {},
   "outputs": [
    {
     "data": {
      "text/plain": [
       "531"
      ]
     },
     "execution_count": 26,
     "metadata": {},
     "output_type": "execute_result"
    }
   ],
   "source": [
    "# Nombre d'appel à la fonction f\n",
    "myFunction.getEvaluationCallsNumber()"
   ]
  },
  {
   "cell_type": "code",
   "execution_count": 27,
   "metadata": {},
   "outputs": [],
   "source": [
    "# Méthode SORM\n",
    "solver = ot.AbdoRackwitz()\n",
    "algo = ot.SORM(solver, event, mu)\n",
    "algo.run()\n",
    "result = algo.getResult()"
   ]
  },
  {
   "cell_type": "code",
   "execution_count": 28,
   "metadata": {},
   "outputs": [
    {
     "data": {
      "text/plain": [
       "0.0007674045156099532"
      ]
     },
     "execution_count": 28,
     "metadata": {},
     "output_type": "execute_result"
    }
   ],
   "source": [
    "result.getEventProbabilityBreitung()"
   ]
  },
  {
   "cell_type": "code",
   "execution_count": 29,
   "metadata": {},
   "outputs": [
    {
     "data": {
      "text/plain": [
       "721"
      ]
     },
     "execution_count": 29,
     "metadata": {},
     "output_type": "execute_result"
    }
   ],
   "source": [
    "# Nombre d'appel à la fonction f\n",
    "myFunction.getEvaluationCallsNumber()"
   ]
  },
  {
   "cell_type": "code",
   "execution_count": 30,
   "metadata": {},
   "outputs": [],
   "source": [
    "# Méthode de Monte Carlo\n",
    "experiment = ot.MonteCarloExperiment()\n",
    "algo = ot.ProbabilitySimulationAlgorithm(event, experiment)\n",
    "algo.setMaximumCoefficientOfVariation(0.05)\n",
    "algo.setMaximumOuterSampling(int(1e5))\n",
    "algo.run()\n",
    "result = algo.getResult()\n",
    "probability = result.getProbabilityEstimate()"
   ]
  },
  {
   "cell_type": "code",
   "execution_count": 31,
   "metadata": {},
   "outputs": [
    {
     "data": {
      "text/plain": [
       "0.0009299999999999981"
      ]
     },
     "execution_count": 31,
     "metadata": {},
     "output_type": "execute_result"
    }
   ],
   "source": [
    "probability"
   ]
  },
  {
   "cell_type": "code",
   "execution_count": 32,
   "metadata": {},
   "outputs": [
    {
     "data": {
      "text/plain": [
       "100721"
      ]
     },
     "execution_count": 32,
     "metadata": {},
     "output_type": "execute_result"
    }
   ],
   "source": [
    "# Nombre d'appel à la fonction\n",
    "myFunction.getEvaluationCallsNumber()"
   ]
  },
  {
   "cell_type": "code",
   "execution_count": null,
   "metadata": {},
   "outputs": [],
   "source": []
  }
 ],
 "metadata": {
  "kernelspec": {
   "display_name": "Python 3",
   "language": "python",
   "name": "python3"
  },
  "language_info": {
   "codemirror_mode": {
    "name": "ipython",
    "version": 3
   },
   "file_extension": ".py",
   "mimetype": "text/x-python",
   "name": "python",
   "nbconvert_exporter": "python",
   "pygments_lexer": "ipython3",
   "version": "3.7.6"
  }
 },
 "nbformat": 4,
 "nbformat_minor": 2
}
