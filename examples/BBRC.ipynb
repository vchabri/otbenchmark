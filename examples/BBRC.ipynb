{
 "cells": [
  {
   "cell_type": "markdown",
   "metadata": {},
   "source": [
    "# Using a BBRC test function in OpenTURNS\n",
    "\n",
    "This notebook shows how to define a BBRC test function from BBRC with OpenTURNS. We first directly use the `evaluate` function provided by the BBRC, then wrap it into a `PythonFunction`. \n",
    "\n",
    "Reference\n",
    "* https://rprepo.readthedocs.io/en/latest/"
   ]
  },
  {
   "cell_type": "code",
   "execution_count": 1,
   "metadata": {},
   "outputs": [],
   "source": [
    "import openturns as ot\n",
    "import numpy as np\n",
    "from otbenchmark import evaluate"
   ]
  },
  {
   "cell_type": "code",
   "execution_count": 2,
   "metadata": {},
   "outputs": [],
   "source": [
    "username = \"testuser\"\n",
    "password = \"testpass\"\n",
    "set_id = -1\n",
    "problem_id = 1\n",
    "x = [-1.0] * 6"
   ]
  },
  {
   "cell_type": "code",
   "execution_count": 3,
   "metadata": {},
   "outputs": [],
   "source": [
    "g_val_sys, g_val_comp, msg = evaluate.evaluate(\n",
    "    username, password, set_id, problem_id, x\n",
    ")"
   ]
  },
  {
   "cell_type": "code",
   "execution_count": 4,
   "metadata": {},
   "outputs": [
    {
     "data": {
      "text/plain": [
       "[4.0]"
      ]
     },
     "execution_count": 4,
     "metadata": {},
     "output_type": "execute_result"
    }
   ],
   "source": [
    "g_val_sys"
   ]
  },
  {
   "cell_type": "code",
   "execution_count": 5,
   "metadata": {},
   "outputs": [
    {
     "data": {
      "text/plain": [
       "[4.0]"
      ]
     },
     "execution_count": 5,
     "metadata": {},
     "output_type": "execute_result"
    }
   ],
   "source": [
    "g_val_comp"
   ]
  },
  {
   "cell_type": "code",
   "execution_count": 6,
   "metadata": {},
   "outputs": [
    {
     "data": {
      "text/plain": [
       "'Ok'"
      ]
     },
     "execution_count": 6,
     "metadata": {},
     "output_type": "execute_result"
    }
   ],
   "source": [
    "msg"
   ]
  },
  {
   "cell_type": "code",
   "execution_count": 7,
   "metadata": {},
   "outputs": [],
   "source": [
    "def g_fun(x):\n",
    "    x = np.array(x)\n",
    "    g_val_sys, g_val_comp, msg = evaluate.evaluate(\n",
    "        username, password, set_id, problem_id, x\n",
    "    )\n",
    "    return g_val_comp"
   ]
  },
  {
   "cell_type": "code",
   "execution_count": 8,
   "metadata": {},
   "outputs": [
    {
     "data": {
      "text/plain": [
       "[4.0]"
      ]
     },
     "execution_count": 8,
     "metadata": {},
     "output_type": "execute_result"
    }
   ],
   "source": [
    "y = g_fun(x)\n",
    "y"
   ]
  },
  {
   "cell_type": "code",
   "execution_count": 9,
   "metadata": {},
   "outputs": [
    {
     "data": {
      "text/html": [
       "<p>[4]</p>"
      ],
      "text/plain": [
       "class=Point name=Unnamed dimension=1 values=[4]"
      ]
     },
     "execution_count": 9,
     "metadata": {},
     "output_type": "execute_result"
    }
   ],
   "source": [
    "myFunction = ot.PythonFunction(6, 1, g_fun)\n",
    "myFunction(x)"
   ]
  },
  {
   "cell_type": "code",
   "execution_count": 10,
   "metadata": {},
   "outputs": [],
   "source": [
    "dist_X1 = ot.ParametrizedDistribution(ot.LogNormalMuSigma(120, 12))\n",
    "dist_X2 = ot.ParametrizedDistribution(ot.LogNormalMuSigma(120, 12))\n",
    "dist_X3 = ot.ParametrizedDistribution(ot.LogNormalMuSigma(120, 12))\n",
    "dist_X4 = ot.ParametrizedDistribution(ot.LogNormalMuSigma(120, 12))\n",
    "dist_X5 = ot.ParametrizedDistribution(ot.LogNormalMuSigma(50, 10))\n",
    "dist_X6 = ot.ParametrizedDistribution(ot.LogNormalMuSigma(40, 8))\n",
    "myDistribution = ot.ComposedDistribution(\n",
    "    [dist_X1, dist_X2, dist_X3, dist_X4, dist_X5, dist_X6]\n",
    ")\n",
    "myRandomVector = ot.RandomVector(myDistribution)"
   ]
  },
  {
   "cell_type": "code",
   "execution_count": 11,
   "metadata": {
    "scrolled": false
   },
   "outputs": [],
   "source": [
    "myFunction = ot.PythonFunction(6, 1, g_fun)\n",
    "myOutputVector = ot.CompositeRandomVector(myFunction, myRandomVector)"
   ]
  },
  {
   "cell_type": "code",
   "execution_count": 12,
   "metadata": {},
   "outputs": [
    {
     "data": {
      "text/html": [
       "<TABLE><TR><TD></TD><TH>y0</TH></TR>\n",
       "<TR><TD>0</TD><TD>163.40664672851562</TD></TR>\n",
       "<TR><TD>1</TD><TD>207.39752197265625</TD></TR>\n",
       "<TR><TD>2</TD><TD>294.3848876953125</TD></TR>\n",
       "<TR><TD>3</TD><TD>223.79116821289062</TD></TR>\n",
       "</TABLE>"
      ],
      "text/plain": [
       "class=Sample name=Unnamed implementation=class=SampleImplementation name=Unnamed size=4 dimension=1 description=[y0] data=[[163.407],[207.398],[294.385],[223.791]]"
      ]
     },
     "execution_count": 12,
     "metadata": {},
     "output_type": "execute_result"
    }
   ],
   "source": [
    "myOutputVector.getSample(4)"
   ]
  },
  {
   "cell_type": "code",
   "execution_count": null,
   "metadata": {},
   "outputs": [],
   "source": []
  }
 ],
 "metadata": {
  "kernelspec": {
   "display_name": "Python 3",
   "language": "python",
   "name": "python3"
  },
  "language_info": {
   "codemirror_mode": {
    "name": "ipython",
    "version": 3
   },
   "file_extension": ".py",
   "mimetype": "text/x-python",
   "name": "python",
   "nbconvert_exporter": "python",
   "pygments_lexer": "ipython3",
   "version": "3.7.4"
  },
  "latex_envs": {
   "LaTeX_envs_menu_present": true,
   "autoclose": true,
   "autocomplete": true,
   "bibliofile": "biblio.bib",
   "cite_by": "apalike",
   "current_citInitial": 1,
   "eqLabelWithNumbers": true,
   "eqNumInitial": 1,
   "hotkeys": {
    "equation": "Ctrl-E",
    "itemize": "Ctrl-I"
   },
   "labels_anchors": false,
   "latex_user_defs": false,
   "report_style_numbering": false,
   "user_envs_cfg": false
  },
  "toc": {
   "base_numbering": 1,
   "nav_menu": {},
   "number_sections": true,
   "sideBar": false,
   "skip_h1_title": true,
   "title_cell": "Sommaire",
   "title_sidebar": "Contenu",
   "toc_cell": false,
   "toc_position": {
    "height": "47.7167px",
    "left": "1672px",
    "top": "159.133px",
    "width": "154px"
   },
   "toc_section_display": false,
   "toc_window_display": true
  }
 },
 "nbformat": 4,
 "nbformat_minor": 2
}
